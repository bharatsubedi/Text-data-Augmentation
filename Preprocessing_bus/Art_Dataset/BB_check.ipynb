{
 "cells": [
  {
   "cell_type": "code",
   "execution_count": null,
   "metadata": {},
   "outputs": [],
   "source": [
    "import cv2\n",
    "import os\n",
    "imglist = [file for file in os.listdir('noise_img/') if file.endswith('.png')]\n",
    "print(len(imglist))\n",
    "font = cv2.FONT_HERSHEY_SIMPLEX\n",
    "if not os.path.exists('test_bound/'):\n",
    "    os.mkdir('test_bound/')"
   ]
  },
  {
   "cell_type": "code",
   "execution_count": null,
   "metadata": {},
   "outputs": [],
   "source": [
    "for img in imglist:\n",
    "    im = cv2.imread('noise_img/'+img)\n",
    "    txts = img[:-4]\n",
    "    print(txts)\n",
    "    txt_name = 'gt_'+txts+'.txt'\n",
    "    with open('noise_gt/'+txt_name,'r') as f:\n",
    "        for line in f.read().splitlines():\n",
    "            cor = line.split(',')\n",
    "            x1 = int(cor[0])\n",
    "            y1 = int(cor[1])\n",
    "            x2 = int(cor[4])\n",
    "            y2 = int(cor[5])\n",
    "            string = str(cor[8])\n",
    "            cv2.rectangle(im, (x1, y1), (x2, y2), (255, 0, 0), 2)\n",
    "            font_scale = 1.5\n",
    "            rectangle_bgr = (255, 255, 255)\n",
    "            (text_width, text_height) = cv2.getTextSize(string, font, fontScale=font_scale, thickness=1)[0]\n",
    "            # set the text start position\n",
    "            text_offset_x = x1\n",
    "            text_offset_y = y1\n",
    "            # make the coords of the box with a small padding of two pixels\n",
    "            box_coords = ((text_offset_x, text_offset_y),\n",
    "                          (text_offset_x + text_width, text_offset_y - text_height))\n",
    "            cv2.rectangle(im, box_coords[0], box_coords[1], rectangle_bgr, cv2.FILLED)\n",
    "            im_txt = cv2.putText(im, string, (text_offset_x, text_offset_y), font,fontScale=font_scale, color=(0, 0, 0), thickness=1)\n",
    "            \n",
    "            cv2.imwrite(\"test_bound/{}\".format(img), im_txt)\n",
    "            \n",
    "            \n"
   ]
  },
  {
   "cell_type": "code",
   "execution_count": null,
   "metadata": {},
   "outputs": [],
   "source": []
  },
  {
   "cell_type": "code",
   "execution_count": null,
   "metadata": {},
   "outputs": [],
   "source": []
  },
  {
   "cell_type": "code",
   "execution_count": null,
   "metadata": {},
   "outputs": [],
   "source": []
  }
 ],
 "metadata": {
  "kernelspec": {
   "display_name": "Python 3",
   "language": "python",
   "name": "python3"
  },
  "language_info": {
   "codemirror_mode": {
    "name": "ipython",
    "version": 3
   },
   "file_extension": ".py",
   "mimetype": "text/x-python",
   "name": "python",
   "nbconvert_exporter": "python",
   "pygments_lexer": "ipython3",
   "version": "3.6.8"
  }
 },
 "nbformat": 4,
 "nbformat_minor": 2
}
