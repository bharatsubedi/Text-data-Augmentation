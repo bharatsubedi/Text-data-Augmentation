{
 "cells": [
  {
   "cell_type": "code",
   "execution_count": 4,
   "metadata": {},
   "outputs": [],
   "source": [
    "import cv2\n",
    "import os\n",
    "imglist = [file for file in os.listdir('../sample/') if file.endswith('.bmp')]\n",
    "if not os.path.exists('../PPMImage/'):\n",
    "    os.mkdir('../PPMImage')\n",
    "\n",
    "for imgname in imglist:\n",
    "    img = cv2.imread('../sample/{}'.format(imgname))\n",
    "    new_name = imgname[:-4]\n",
    "    cv2.imwrite('../PPMImage/{}.ppm'.format(new_name),img)"
   ]
  },
  {
   "cell_type": "code",
   "execution_count": 12,
   "metadata": {},
   "outputs": [],
   "source": [
    "def increase_brightness(img, value=40):\n",
    "    hsv = cv2.cvtColor(img, cv2.COLOR_BGR2HSV)\n",
    "    h, s, v = cv2.split(hsv)\n",
    "\n",
    "    lim = 255 - value\n",
    "    v[v > lim] = 255\n",
    "    v[v <= lim] += value\n",
    "\n",
    "    final_hsv = cv2.merge((h, s, v))\n",
    "    img = cv2.cvtColor(final_hsv, cv2.COLOR_HSV2BGR)\n",
    "    return img"
   ]
  },
  {
   "cell_type": "code",
   "execution_count": 13,
   "metadata": {},
   "outputs": [],
   "source": [
    "import cv2\n",
    "import numpy as np\n",
    "if not os.path.exists('../PPMBright/'):\n",
    "    os.mkdir('../PPMBright/')\n",
    "imglist = [file for file in os.listdir('../sample/') if file.endswith('.bmp')]\n",
    "for imgname in imglist:\n",
    "    img = cv2.imread('../sample/{}'.format(imgname))\n",
    "    frame = increase_brightness(img, value=20)\n",
    "    new_name = imgname[:-4]\n",
    "    cv2.imwrite('../PPMBright/{}.ppm'.format(new_name),frame)\n"
   ]
  },
  {
   "cell_type": "code",
   "execution_count": null,
   "metadata": {},
   "outputs": [],
   "source": [
    "#########  dynamic crop images ##############################"
   ]
  },
  {
   "cell_type": "code",
   "execution_count": 1,
   "metadata": {},
   "outputs": [
    {
     "ename": "FileNotFoundError",
     "evalue": "[Errno 2] No such file or directory: 'test_img/test_1.jpg'",
     "output_type": "error",
     "traceback": [
      "\u001b[0;31m---------------------------------------------------------------------------\u001b[0m",
      "\u001b[0;31mFileNotFoundError\u001b[0m                         Traceback (most recent call last)",
      "\u001b[0;32m<ipython-input-1-fe8739c59796>\u001b[0m in \u001b[0;36m<module>\u001b[0;34m\u001b[0m\n\u001b[1;32m      1\u001b[0m \u001b[0;32mfrom\u001b[0m \u001b[0mPIL\u001b[0m \u001b[0;32mimport\u001b[0m \u001b[0mImage\u001b[0m\u001b[0;34m\u001b[0m\u001b[0;34m\u001b[0m\u001b[0m\n\u001b[0;32m----> 2\u001b[0;31m \u001b[0mimg\u001b[0m \u001b[0;34m=\u001b[0m \u001b[0mImage\u001b[0m\u001b[0;34m.\u001b[0m\u001b[0mopen\u001b[0m\u001b[0;34m(\u001b[0m\u001b[0;34m'test_img/test_1.jpg'\u001b[0m\u001b[0;34m)\u001b[0m\u001b[0;34m\u001b[0m\u001b[0;34m\u001b[0m\u001b[0m\n\u001b[0m",
      "\u001b[0;32m~/.local/lib/python3.6/site-packages/PIL/Image.py\u001b[0m in \u001b[0;36mopen\u001b[0;34m(fp, mode)\u001b[0m\n\u001b[1;32m   2768\u001b[0m \u001b[0;34m\u001b[0m\u001b[0m\n\u001b[1;32m   2769\u001b[0m     \u001b[0;32mif\u001b[0m \u001b[0mfilename\u001b[0m\u001b[0;34m:\u001b[0m\u001b[0;34m\u001b[0m\u001b[0;34m\u001b[0m\u001b[0m\n\u001b[0;32m-> 2770\u001b[0;31m         \u001b[0mfp\u001b[0m \u001b[0;34m=\u001b[0m \u001b[0mbuiltins\u001b[0m\u001b[0;34m.\u001b[0m\u001b[0mopen\u001b[0m\u001b[0;34m(\u001b[0m\u001b[0mfilename\u001b[0m\u001b[0;34m,\u001b[0m \u001b[0;34m\"rb\"\u001b[0m\u001b[0;34m)\u001b[0m\u001b[0;34m\u001b[0m\u001b[0;34m\u001b[0m\u001b[0m\n\u001b[0m\u001b[1;32m   2771\u001b[0m         \u001b[0mexclusive_fp\u001b[0m \u001b[0;34m=\u001b[0m \u001b[0;32mTrue\u001b[0m\u001b[0;34m\u001b[0m\u001b[0;34m\u001b[0m\u001b[0m\n\u001b[1;32m   2772\u001b[0m \u001b[0;34m\u001b[0m\u001b[0m\n",
      "\u001b[0;31mFileNotFoundError\u001b[0m: [Errno 2] No such file or directory: 'test_img/test_1.jpg'"
     ]
    }
   ],
   "source": [
    "from PIL import Image\n",
    "img = Image.open('test_img/test_1.jpg')"
   ]
  },
  {
   "cell_type": "code",
   "execution_count": 355,
   "metadata": {},
   "outputs": [],
   "source": [
    "with open('test_gt/gt_bright_1.txt') as f:\n",
    "    num = 1\n",
    "    for line in f.read().splitlines():\n",
    "        cor = line.split(',')\n",
    "        x1 = int(cor[0])\n",
    "        y1 = int(cor[1])\n",
    "        x2 = int(cor[4])\n",
    "        y2 = int(cor[5])\n",
    "        image = img.crop((x1,y1,x2,y2))\n",
    "        image.save('{}.jpg'.format(num))\n",
    "        num=num+1"
   ]
  },
  {
   "cell_type": "code",
   "execution_count": 283,
   "metadata": {},
   "outputs": [],
   "source": [
    "#############  restering ##########################"
   ]
  },
  {
   "cell_type": "code",
   "execution_count": 356,
   "metadata": {},
   "outputs": [
    {
     "name": "stdout",
     "output_type": "stream",
     "text": [
      "72\n",
      "182\n",
      "[(9,57), (62,180)]: BB\n"
     ]
    }
   ],
   "source": [
    "from PIL import Image\n",
    "\n",
    "def matching_algo(r, g, b, r_query, g_query, b_query):\n",
    "    if r == r_query and g == g_query and b == b_query:\n",
    "        return True\n",
    "    else:\n",
    "        return False\n",
    "\n",
    "r_query = 55\n",
    "g_query = 55\n",
    "b_query = 55\n",
    "imagename = '1.jpg'\n",
    "img = Image.open(imagename)\n",
    "pix = img.load()\n",
    "left = img.size[0]\n",
    "right = 0\n",
    "top = img.size[1]\n",
    "bottom = 0\n",
    "for x in range(img.size[0]):\n",
    "    for y in range(img.size[1]): \n",
    "        r,g,b = pix[x,y]\n",
    "        if matching_algo(r, g, b, r_query, g_query, b_query):\n",
    "            if x <= left:\n",
    "                left = x\n",
    "            if x >= right:\n",
    "                right = x\n",
    "            if y <= top:\n",
    "                top = y\n",
    "            if y >= bottom:\n",
    "                bottom = y\n",
    "print (\"[({},{}), ({},{})]: BB\".format(left,top,right,bottom))"
   ]
  },
  {
   "cell_type": "code",
   "execution_count": 360,
   "metadata": {},
   "outputs": [],
   "source": [
    "from PIL import Image\n",
    "img = Image.open(imagename)\n",
    "img2 = img.crop((left,top,right,bottom))\n",
    "img2.save(\"img1.ppm\")"
   ]
  }
 ],
 "metadata": {
  "kernelspec": {
   "display_name": "Python 3",
   "language": "python",
   "name": "python3"
  },
  "language_info": {
   "codemirror_mode": {
    "name": "ipython",
    "version": 3
   },
   "file_extension": ".py",
   "mimetype": "text/x-python",
   "name": "python",
   "nbconvert_exporter": "python",
   "pygments_lexer": "ipython3",
   "version": "3.6.8"
  }
 },
 "nbformat": 4,
 "nbformat_minor": 2
}
