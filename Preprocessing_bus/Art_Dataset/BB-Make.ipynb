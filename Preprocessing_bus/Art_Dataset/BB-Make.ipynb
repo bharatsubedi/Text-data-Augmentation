{
 "cells": [
  {
   "cell_type": "code",
   "execution_count": 100,
   "metadata": {},
   "outputs": [
    {
     "name": "stdout",
     "output_type": "stream",
     "text": [
      "89 226\n",
      "[(4,74), (72,225)]: BB\n"
     ]
    }
   ],
   "source": [
    "from PIL import Image\n",
    "\n",
    "def matching_algo(r, r_query):\n",
    "    m = 10\n",
    "    if r > r_query-m and r < r_query+m :\n",
    "        return True\n",
    "    else:\n",
    "        return False\n",
    "\n",
    "r_query = 55\n",
    "imagename = \"7.ppm\"\n",
    "img = Image.open(imagename)\n",
    "pix = img.load()\n",
    "coordinates = []\n",
    "xx = img.size[0]\n",
    "yy = img.size[1]\n",
    "print(xx,yy)\n",
    "left = xx\n",
    "right = 0\n",
    "top = yy\n",
    "bottom = 0\n",
    "for x in range(xx):\n",
    "    for y in range(yy): \n",
    "        r,g,b = pix[x,y]\n",
    "        #print('{},{},{}'.format(r,g,b))\n",
    "        if matching_algo(r, r_query):\n",
    "            #print(\"{},{} contains {}-{}-{} \".format(x, y, r, g, b))107,277,196,277,196,506,107,506\n",
    "            if x < left:\n",
    "                left = x\n",
    "            if x > right:\n",
    "                right = x\n",
    "            if y < top:\n",
    "                top = y\n",
    "            if y > bottom:\n",
    "                bottom = y\n",
    "m2 = 1\n",
    "left = left-m2\n",
    "right = right+m2\n",
    "top = top-m2\n",
    "bottom = bottom+m2\n",
    "print (\"[({},{}), ({},{})]: BB\".format(max(left,0),max(top,0),min(right,xx-1),min(bottom,yy-1)))"
   ]
  },
  {
   "cell_type": "code",
   "execution_count": 101,
   "metadata": {},
   "outputs": [],
   "source": [
    "from PIL import Image\n",
    "img = Image.open(imagename)\n",
    "img2 = img.crop((left,top,right,bottom))\n",
    "img2.save(\"img7.ppm\")"
   ]
  },
  {
   "cell_type": "code",
   "execution_count": null,
   "metadata": {},
   "outputs": [],
   "source": []
  },
  {
   "cell_type": "code",
   "execution_count": null,
   "metadata": {},
   "outputs": [],
   "source": []
  }
 ],
 "metadata": {
  "kernelspec": {
   "display_name": "Python 3",
   "language": "python",
   "name": "python3"
  },
  "language_info": {
   "codemirror_mode": {
    "name": "ipython",
    "version": 3
   },
   "file_extension": ".py",
   "mimetype": "text/x-python",
   "name": "python",
   "nbconvert_exporter": "python",
   "pygments_lexer": "ipython3",
   "version": "3.6.8"
  }
 },
 "nbformat": 4,
 "nbformat_minor": 2
}
