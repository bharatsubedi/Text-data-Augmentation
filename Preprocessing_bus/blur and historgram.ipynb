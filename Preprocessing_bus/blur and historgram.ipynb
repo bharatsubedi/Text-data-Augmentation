{
 "cells": [
  {
   "cell_type": "code",
   "execution_count": null,
   "metadata": {},
   "outputs": [],
   "source": [
    "############  add blur inside part of image randomly #########################"
   ]
  },
  {
   "cell_type": "code",
   "execution_count": null,
   "metadata": {},
   "outputs": [],
   "source": [
    "import cv2\n",
    "import numpy as np\n",
    "import os\n",
    "imagelist = [file for file in os.listdir('Art_Dataset/blur_gray/') if file.endswith('.png')]\n",
    "print(len(imagelist))\n",
    "if not os.path.exists('Art_Dataset/blur_img/'):\n",
    "    os.mkdir('Art_Dataset/blur_img/')"
   ]
  },
  {
   "cell_type": "code",
   "execution_count": null,
   "metadata": {},
   "outputs": [],
   "source": [
    "for img in imagelist:\n",
    "    image = cv2.imread('Art_Dataset/blur_gray/'+img).astype(np.uint8)\n",
    "    image = cv2.cvtColor(image,cv2.COLOR_BGR2GRAY)\n",
    "    tempImg = image.copy()\n",
    "    maskShape = (image.shape[0], image.shape[1], 1)\n",
    "    mask = np.full(maskShape, 0, dtype=np.uint8)\n",
    "    x= np.random.randint(0, 1100)\n",
    "    y= np.random.randint(100, 900)\n",
    "    w=np.random.randint(1500, 1600)\n",
    "    h=np.random.randint(800, 1100)\n",
    "    b1= np.random.randint(10, 15)\n",
    "    b2= np.random.randint(10, 15)\n",
    "    #blur first so that the circle is not blurred\n",
    "    tempImg [y:y+h, x:x+w] = cv2.blur(tempImg [y:y+h, x:x+w] ,(b1,b2))\n",
    "    cv2.circle(mask , ( int((x + w )/2), int((y + h)/2 )), int (h / 2), (255), -1)\n",
    "    cv2.circle(mask , ( int((x + w )/2), int((y + h)/2 )), int (h / 2), (255), -1)\n",
    "\n",
    "    # oustide of the loop, apply the mask and save\n",
    "    mask_inv = cv2.bitwise_not(mask)\n",
    "    img1_bg = cv2.bitwise_and(image,image,mask = mask_inv)\n",
    "    img2_fg = cv2.bitwise_and(tempImg,tempImg,mask = mask)\n",
    "    dst = cv2.add(img1_bg,img2_fg)\n",
    "    cv2.imwrite(\"Art_Dataset/blur_img/{}\".format(img) ,dst)\n"
   ]
  },
  {
   "cell_type": "code",
   "execution_count": null,
   "metadata": {},
   "outputs": [],
   "source": [
    "########  simple blur #########################"
   ]
  },
  {
   "cell_type": "code",
   "execution_count": 5,
   "metadata": {},
   "outputs": [],
   "source": [
    "import cv2\n",
    "import numpy"
   ]
  },
  {
   "cell_type": "code",
   "execution_count": 6,
   "metadata": {},
   "outputs": [
    {
     "name": "stdout",
     "output_type": "stream",
     "text": [
      "5000\n"
     ]
    }
   ],
   "source": [
    "# read image\n",
    "import os\n",
    "imagelist = [file for file in os.listdir('Art_Dataset/blur_pica_img/') if file.endswith('.png')]\n",
    "print(len(imagelist))\n",
    "if not os.path.exists('Art_Dataset/pica_blur_img/'):\n",
    "    os.mkdir('Art_Dataset/pica_blur_img/')\n",
    "for img in imagelist:\n",
    "    src = cv2.imread('Art_Dataset/blur_pica_img/'+img, cv2.IMREAD_UNCHANGED)\n",
    "    dst = cv2.GaussianBlur(src,(5,5),cv2.BORDER_DEFAULT)\n",
    "    cv2.imwrite(\"Art_Dataset/pica_blur_img/{}\".format(img) ,dst)"
   ]
  },
  {
   "cell_type": "code",
   "execution_count": null,
   "metadata": {},
   "outputs": [],
   "source": [
    "############  increase length of ground truth ###################################"
   ]
  },
  {
   "cell_type": "code",
   "execution_count": null,
   "metadata": {},
   "outputs": [],
   "source": [
    "import cv2 as cv\n",
    "import os \n",
    "import numpy as np\n",
    "imagelist = [file for file in os.listdir('Art_Dataset/length_gray/') if file.endswith('.png')]\n",
    "print(len(imagelist))\n",
    "if not os.path.exists('Art_Dataset/length_img/'):\n",
    "    os.mkdir('Art_Dataset/length_img/')"
   ]
  },
  {
   "cell_type": "code",
   "execution_count": null,
   "metadata": {},
   "outputs": [],
   "source": [
    "for img in imagelist:\n",
    "    im = cv.imread('Art_Dataset/length_gray/'+img).astype(np.uint8)\n",
    "    thumbnail = cv.resize(im, (1600, 1800))\n",
    "    cv.imwrite(\"Art_Dataset/length_img/{}\".format(img), thumbnail)"
   ]
  },
  {
   "cell_type": "code",
   "execution_count": null,
   "metadata": {},
   "outputs": [],
   "source": [
    "from PIL import Image\n",
    "img = Image.open('Art_Dataset/length_img/length_5.png')"
   ]
  },
  {
   "cell_type": "code",
   "execution_count": null,
   "metadata": {},
   "outputs": [],
   "source": [
    "with open('Art_Dataset/length_gt/gt_length_5.txt') as f:\n",
    "    num = 1\n",
    "    for line in f.read().splitlines():\n",
    "        cor = line.split(',')\n",
    "        x1 = int(cor[0])\n",
    "        y1 = int(cor[1])\n",
    "        x2 = int(cor[4])\n",
    "        y2 = int(cor[5])\n",
    "        print('{},{}'.format(y1,y2))\n",
    "        image = img.crop((x1,y1,x2,y2))\n",
    "        image.save('{}.png'.format(num))\n",
    "        num=num+1"
   ]
  },
  {
   "cell_type": "code",
   "execution_count": null,
   "metadata": {},
   "outputs": [],
   "source": [
    "import os\n",
    "textfiles = [file for file in os.listdir('Art_Dataset/test_gt_final/') if file.endswith('.txt')]\n",
    "if not os.path.exists('Art_Dataset/length_gt/'):\n",
    "    os.mkdir('Art_Dataset/length_gt/')\n",
    "for text in textfiles:\n",
    "    with open('Art_Dataset/length_gt/{}'.format(text),'w') as fr:\n",
    "        with open('Art_Dataset/test_gt_final/{}'.format(text),'r') as f:\n",
    "            for line in f.read().splitlines():\n",
    "                cor = line.split(',')\n",
    "                x1 = int(cor[0])\n",
    "                y1 = int(cor[1])*1.5\n",
    "                y1 = int(y1)\n",
    "                x2 = int(cor[4])\n",
    "                y2 = int(cor[5])*1.5\n",
    "                y2 = int(y2)\n",
    "                string = cor[8]\n",
    "                fr.write('{},{},{},{},{},{},{},{}\\n'.format(x1,y1,x2,y1,x2,y2,x1,y2,string))"
   ]
  },
  {
   "cell_type": "code",
   "execution_count": null,
   "metadata": {},
   "outputs": [],
   "source": [
    "###########  add brightness ########################"
   ]
  },
  {
   "cell_type": "code",
   "execution_count": 13,
   "metadata": {},
   "outputs": [],
   "source": [
    "def increase_brightness(img, value=30):\n",
    "    hsv = cv2.cvtColor(img, cv2.COLOR_BGR2HSV)\n",
    "    h, s, v = cv2.split(hsv)\n",
    "    lim = 255 - value\n",
    "    v[v > lim] = 255\n",
    "    v[v <= lim] += value\n",
    "    final_hsv = cv2.merge((h, s, v))\n",
    "    img = cv2.cvtColor(final_hsv, cv2.COLOR_HSV2BGR)\n",
    "    return img"
   ]
  },
  {
   "cell_type": "code",
   "execution_count": 14,
   "metadata": {},
   "outputs": [
    {
     "name": "stdout",
     "output_type": "stream",
     "text": [
      "15\n"
     ]
    }
   ],
   "source": [
    "import cv2 \n",
    "import os \n",
    "import numpy as np\n",
    "imagelist = [file for file in os.listdir('../fots_Grayscale_sent/test_data/') if file.endswith('.png')]\n",
    "print(len(imagelist))\n",
    "if not os.path.exists('../fots_Grayscale_sent/bright_img/'):\n",
    "    os.mkdir('../fots_Grayscale_sent/bright_img/')"
   ]
  },
  {
   "cell_type": "code",
   "execution_count": 15,
   "metadata": {},
   "outputs": [],
   "source": [
    "for image in imagelist:\n",
    "    img = cv2.imread('../fots_Grayscale_sent/test_data/'+image)\n",
    "    frame = increase_brightness(img, value=20)\n",
    "    im = cv2.cvtColor(frame,cv2.COLOR_BGR2GRAY)\n",
    "    cv2.imwrite('../fots_Grayscale_sent/bright_img/{}'.format(image), im)"
   ]
  },
  {
   "cell_type": "code",
   "execution_count": null,
   "metadata": {},
   "outputs": [],
   "source": []
  }
 ],
 "metadata": {
  "kernelspec": {
   "display_name": "Python 3",
   "language": "python",
   "name": "python3"
  },
  "language_info": {
   "codemirror_mode": {
    "name": "ipython",
    "version": 3
   },
   "file_extension": ".py",
   "mimetype": "text/x-python",
   "name": "python",
   "nbconvert_exporter": "python",
   "pygments_lexer": "ipython3",
   "version": "3.6.8"
  }
 },
 "nbformat": 4,
 "nbformat_minor": 2
}
