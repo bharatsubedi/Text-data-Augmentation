{
 "cells": [
  {
   "cell_type": "code",
   "execution_count": null,
   "metadata": {},
   "outputs": [],
   "source": [
    "import numpy as np\n",
    "import os, random\n",
    "from os import listdir\n",
    "from os.path import isfile, join\n",
    "import matplotlib.pyplot as plt\n",
    "from PIL import ImageStat,ImageEnhance,Image,ImageDraw,ImageFont\n",
    "import numpy as np\n",
    "if not os.path.exists(\"Art_Dataset/Recog_images\"):\n",
    "                os.makedirs(\"Art_Dataset/Recog_images\")\n",
    "if not os.path.exists(\"Art_Dataset/Recog_Gt\"):\n",
    "    os.makedirs(\"Art_Dataset/Recog_Gt\")"
   ]
  },
  {
   "cell_type": "code",
   "execution_count": null,
   "metadata": {},
   "outputs": [],
   "source": [
    "def adjust_brightness(image):\n",
    "    #Find brightness of image\n",
    "    #temp = image.convert('L')\n",
    "    stat = ImageStat.Stat(image)\n",
    "    brightness = (stat.mean[0]/255)\n",
    "    BR =[1.70,1.80,1.90,2.0,2.10]\n",
    "    Brt = np.random.choice(BR,1,replace= False)\n",
    "    brt = Brt[0]\n",
    "    enhancer = ImageEnhance.Brightness(image)\n",
    "    if brightness > 0.10:\n",
    "        image = enhancer.enhance(brt-brightness)    \n",
    "    return image"
   ]
  },
  {
   "cell_type": "code",
   "execution_count": null,
   "metadata": {},
   "outputs": [],
   "source": [
    "def image_generate():\n",
    "    img_number = 1\n",
    "    #imagefiles = [file for file in os.listdir(\"../Dataset/resized image/\") if file.endswith('.jpg')]\n",
    "    for i in range(10000):\n",
    "        #lis = imagefiles[i]\n",
    "        name = \"pillow_\"+str(img_number)\n",
    "        fontsize = [70,80,90,100,120]\n",
    "        fill_color = [\"black\"]      \n",
    "        color = np.random.choice(fill_color,1,replace= False)\n",
    "        color = color[0]\n",
    "        image =Image.new('RGBA', (1000, 300), (255,255,255))\n",
    "        #image = Image.open(\"../Dataset/resized image/{}\".format(lis)).convert(\"RGB\")\n",
    "        # image shifting \n",
    "        a,b = 1,0\n",
    "        c = [0,1,2,3,4,5,-1,-2,-3,-4,-5] #left/right (i.e. 5/-5)\n",
    "        LR_select = np.random.choice(c,1,replace = False)\n",
    "        LR = LR_select[0]\n",
    "        d,e = 0,1\n",
    "        f = [0,1,2,3,4,5,-1,-2,-3,-4,-5] #up/down (i.e. 5/-5)\n",
    "        UD_select = np.random.choice(c,1,replace = False)\n",
    "        UD = UD_select[0]\n",
    "        image = image.transform(image.size, Image.AFFINE, (a, b, LR, d, e, UD))\n",
    "        image = adjust_brightness(image)\n",
    "        # adding brightness\n",
    "        \n",
    "        \n",
    "        img_width, img_height = image.size   # Get dimensions\n",
    "        with open('Art_Dataset/Recog_Gt/{}.txt'.format('gt_'+name),'w',encoding='utf-8') as txtfile:\n",
    "            drawer = ImageDraw.Draw(image)\n",
    "\n",
    "            flists =[f for f in listdir(\"OCR-Fonts/\") if isfile(join(\"OCR-Fonts/\", f))]\n",
    "              # dynamic choice of font \n",
    "            fontlist = np.random.choice(flists,1,replace = False)\n",
    "            fsize = np.random.choice(fontsize,1,replace = False)\n",
    "            image_size = (img_width,img_height)\n",
    "\n",
    "            left_width, left_height =20,50 \n",
    "            font = ImageFont.truetype(\"OCR-Fonts/\"+fontlist[0], fsize[0])\n",
    "            string =\"ABCDEFGHIJKLMNOPQRSTUVWXYZ\"\n",
    "            string_list = list(string)\n",
    "            string_first =  np.random.choice(string_list,2,replace = False)\n",
    "            string_second =  np.random.choice(string_list,2,replace = False)\n",
    "            string_third =  np.random.choice(string_list,3,replace = False)\n",
    "            concat_first = ''.join(string_first)\n",
    "            concat_second = ''.join(string_second)\n",
    "            concat_third = ''.join(string_third)\n",
    "            final_string = '{} {} {}'.format(concat_first,concat_second,concat_third)\n",
    "            width, height = drawer.textsize( final_string, font=font,direction=\"ltr\")\n",
    "\n",
    "            drawer.text(( left_width,  left_height), final_string, fill=color, font=font,direction=\"ltr\")\n",
    "            # drawing rectangle surrounding text\n",
    "            lengthx = left_width + width \n",
    "            lengthy = left_height + height\n",
    "            txtfile.write(\"{},{},{},{},{},{},{},{},{}\\n\".format(left_width,left_height,\n",
    "                                                                lengthx,left_height,\n",
    "                                                                lengthx,lengthy,\n",
    "                                                                left_width,lengthy,final_string\n",
    "                                                               ))\n",
    "        image.save('Art_Dataset/Recog_images/{}.jpg'.format(name),\"PNG\")\n",
    "        img_number+=1"
   ]
  },
  {
   "cell_type": "code",
   "execution_count": null,
   "metadata": {},
   "outputs": [],
   "source": [
    "image_generate()"
   ]
  },
  {
   "cell_type": "code",
   "execution_count": null,
   "metadata": {},
   "outputs": [],
   "source": [
    "##########  crop images and add noise ###################"
   ]
  },
  {
   "cell_type": "code",
   "execution_count": null,
   "metadata": {},
   "outputs": [],
   "source": [
    "import os \n",
    "from PIL import Image\n",
    "import cv2"
   ]
  },
  {
   "cell_type": "code",
   "execution_count": null,
   "metadata": {},
   "outputs": [],
   "source": [
    "import numpy as np\n",
    "import os\n",
    "import cv2\n",
    "def noisy(noise_typ,image):\n",
    "    if noise_typ == \"gauss\":\n",
    "        row,col,ch= image.shape\n",
    "        mean = 0\n",
    "        var = 0.1\n",
    "        sigma = var**0.5\n",
    "        gauss = np.random.normal(mean,sigma,(row,col,ch))\n",
    "        gauss = gauss.reshape(row,col,ch)\n",
    "        noisy = image + gauss\n",
    "        return noisy\n",
    "    elif noise_typ == \"s&p\":\n",
    "        row,col,ch = image.shape\n",
    "        s_vs_p = 0.5\n",
    "        amount = 0.004\n",
    "        out = np.copy(image)\n",
    "        # Salt mode\n",
    "        num_salt = np.ceil(amount * image.size * s_vs_p)\n",
    "        coords = [np.random.randint(0, i - 1, int(num_salt))for i in image.shape]\n",
    "        out[coords] = 1\n",
    "        # Pepper mode\n",
    "        num_pepper = np.ceil(amount* image.size * (1. - s_vs_p))\n",
    "        coords = [np.random.randint(0, i - 1, int(num_pepper))for i in image.shape]\n",
    "        out[coords] = 0\n",
    "        return out\n",
    "    elif noise_typ == \"poisson\":\n",
    "        vals = len(np.unique(image))\n",
    "        vals = 2 ** np.ceil(np.log2(vals))\n",
    "        noisy = np.random.poisson(image * vals) / float(vals)\n",
    "        return noisy\n",
    "    elif noise_typ ==\"speckle\":\n",
    "        row,col,ch = image.shape\n",
    "        gauss = np.random.randn(row,col,ch)\n",
    "        gauss = gauss.reshape(row,col,ch)        \n",
    "        noisy = image + image * gauss\n",
    "        return noisy"
   ]
  },
  {
   "cell_type": "code",
   "execution_count": null,
   "metadata": {},
   "outputs": [],
   "source": [
    "imagelists = [ file for file in os.listdir(\"Art_Dataset/Recog_images/\") if file.endswith('.jpg')]\n",
    "gtlists = [gt for gt in os.listdir(\"Art_Dataset/Recog_Gt/\") if gt.endswith('.txt')]\n",
    "print(len(gtlists))\n",
    "print(gtlists[0])\n",
    "print(len(imagelists))\n",
    "if not os.path.exists(\"Recognition_crop_images\"):\n",
    "                os.makedirs(\"Recognition_crop_images\")\n",
    "if not os.path.exists(\"Crop_noise_images_second\"):\n",
    "                os.makedirs(\"Crop_noise_images_second\")\n"
   ]
  },
  {
   "cell_type": "code",
   "execution_count": null,
   "metadata": {},
   "outputs": [],
   "source": [
    "number = 1\n",
    "for image in imagelists:\n",
    "    img = Image.open(\"Art_Dataset/Recog_images/\"+image)\n",
    "    for gt in gtlists:\n",
    "        new_gt=gt[3:][:-4]\n",
    "        #print(new_gt)\n",
    "        if (new_gt==image[:-4]):\n",
    "            f= open(\"Art_Dataset/Recog_Gt/\"+gt,'r',encoding=\"utf-8\")\n",
    "            for line in f.read().splitlines():\n",
    "                coordinate = line.split(',')\n",
    "                x1 = int(coordinate[0])\n",
    "                y1 = int(coordinate[1])\n",
    "                x2 =int(coordinate[4])\n",
    "                y2 =int(coordinate[5])\n",
    "                word = coordinate[-1]\n",
    "                crop_img = img.crop((x1,y1,x2,y2))\n",
    "                crop_img.save(\"Recognition_crop_images/{}_{}.jpg\".format(word,number),\"PNG\")  \n",
    "                number+=1"
   ]
  },
  {
   "cell_type": "code",
   "execution_count": 7,
   "metadata": {},
   "outputs": [],
   "source": [
    "import numpy as np\n",
    "import os\n",
    "import cv2\n",
    "def noisy(noise_typ,image):\n",
    "    if noise_typ == \"gauss\":\n",
    "        row,col,ch= image.shape\n",
    "        mean = 0\n",
    "        var = 0.1\n",
    "        sigma = var**0.5\n",
    "        gauss = np.random.normal(mean,sigma,(row,col,ch))\n",
    "        gauss = gauss.reshape(row,col,ch)\n",
    "        noisy = image + gauss\n",
    "        return noisy\n",
    "    elif noise_typ == \"s&p\":\n",
    "        row,col,ch = image.shape\n",
    "        s_vs_p = 0.5\n",
    "        amount = 0.004\n",
    "        out = np.copy(image)\n",
    "        # Salt mode\n",
    "        num_salt = np.ceil(amount * image.size * s_vs_p)\n",
    "        coords = [np.random.randint(0, i - 1, int(num_salt))for i in image.shape]\n",
    "        out[coords] = 1\n",
    "        # Pepper mode\n",
    "        num_pepper = np.ceil(amount* image.size * (1. - s_vs_p))\n",
    "        coords = [np.random.randint(0, i - 1, int(num_pepper))for i in image.shape]\n",
    "        out[coords] = 0\n",
    "        return out\n",
    "    elif noise_typ == \"poisson\":\n",
    "        vals = len(np.unique(image))\n",
    "        vals = 2 ** np.ceil(np.log2(vals))\n",
    "        noisy = np.random.poisson(image * vals) / float(vals)\n",
    "        return noisy\n",
    "    elif noise_typ ==\"speckle\":\n",
    "        row,col,ch = image.shape\n",
    "        gauss = np.random.randn(row,col,ch)\n",
    "        gauss = gauss.reshape(row,col,ch)        \n",
    "        noisy = image + image * gauss\n",
    "        return noisy"
   ]
  },
  {
   "cell_type": "code",
   "execution_count": 8,
   "metadata": {},
   "outputs": [
    {
     "name": "stdout",
     "output_type": "stream",
     "text": [
      "5000\n"
     ]
    }
   ],
   "source": [
    "# for rotate image check\n",
    "import numpy as np\n",
    "import cv2\n",
    "import matplotlib.pyplot as plt\n",
    "imagelists = [ file for file in os.listdir(\"Art_Dataset/noise_pica_img/\") if file.endswith('.png')]\n",
    "if not os.path.exists(\"Art_Dataset/pica_noise_img\"):\n",
    "                os.makedirs(\"Art_Dataset/pica_noise_img\")\n",
    "print(len(imagelists))\n"
   ]
  },
  {
   "cell_type": "code",
   "execution_count": 9,
   "metadata": {},
   "outputs": [
    {
     "name": "stderr",
     "output_type": "stream",
     "text": [
      "/home/nplab/.local/lib/python3.6/site-packages/ipykernel_launcher.py:22: FutureWarning: Using a non-tuple sequence for multidimensional indexing is deprecated; use `arr[tuple(seq)]` instead of `arr[seq]`. In the future this will be interpreted as an array index, `arr[np.array(seq)]`, which will result either in an error or a different result.\n",
      "/home/nplab/.local/lib/python3.6/site-packages/ipykernel_launcher.py:26: FutureWarning: Using a non-tuple sequence for multidimensional indexing is deprecated; use `arr[tuple(seq)]` instead of `arr[seq]`. In the future this will be interpreted as an array index, `arr[np.array(seq)]`, which will result either in an error or a different result.\n"
     ]
    }
   ],
   "source": [
    "for image in imagelists:\n",
    "    img = cv2.imread(\"Art_Dataset/noise_pica_img/{}\".format(image))\n",
    "    #blurImg = cv2.blur(img,(3,3))\n",
    "    noi = ['s&p','gauss','s&p']\n",
    "    n = np.random.choice(noi,1,replace = False)\n",
    "    noise_sp = noisy(n,img)\n",
    "    cv2.imwrite(\"Art_Dataset/pica_noise_img/{}\".format(image),noise_sp)\n",
    "    "
   ]
  },
  {
   "cell_type": "code",
   "execution_count": null,
   "metadata": {},
   "outputs": [],
   "source": [
    "################   checking resize and boundary box after resize #####################################"
   ]
  },
  {
   "cell_type": "code",
   "execution_count": null,
   "metadata": {},
   "outputs": [],
   "source": [
    "from PIL import Image\n",
    "import os\n",
    "import matplotlib.pyplot as plt\n",
    "img = Image.open(\"resize.jpg\")\n",
    "area = (300, 333, 351, 368)\n",
    "cropped_img = img.crop(area)\n",
    "cropped_img.save(\"crop.jpg\")\n",
    "#plt.imshow(cropped_img)"
   ]
  },
  {
   "cell_type": "code",
   "execution_count": null,
   "metadata": {},
   "outputs": [],
   "source": [
    "###########  resize images and resize ground truth ########################################"
   ]
  },
  {
   "cell_type": "code",
   "execution_count": null,
   "metadata": {},
   "outputs": [],
   "source": [
    "import os\n",
    "gtfiles = [file for file in os.listdir(\"Art_Dataset/Gt_resize/\") if file.startswith('gt_')]\n",
    "print(len(gtfiles))"
   ]
  },
  {
   "cell_type": "code",
   "execution_count": null,
   "metadata": {},
   "outputs": [],
   "source": [
    "import os\n",
    "gtfiles = [file for file in os.listdir(\"Art_Dataset/All_gt/\") if file.endswith('.txt')]\n",
    "if not os.path.exists(\"Art_Dataset/Gt_resize\"):\n",
    "                os.makedirs(\"Art_Dataset/Gt_resize\")\n",
    "for gt in gtfiles:\n",
    "    print(gt)\n",
    "    with open(\"Art_Dataset/Gt_resize/{}\".format(gt),\"w\") as f:\n",
    "        with open(\"Art_Dataset/All_gt/{}\".format(gt),\"r\") as readgt:\n",
    "            for line in readgt.readlines():\n",
    "                cordinate = line.split(',')\n",
    "                x1 = int(cordinate[0])//2\n",
    "                x2 = int(cordinate[1])//2\n",
    "                x3 = int(cordinate[2])//2\n",
    "                x4 = int(cordinate[3])//2\n",
    "                x5 = int(cordinate[4])//2\n",
    "                x6 = int(cordinate[5])//2\n",
    "                x7 = int(cordinate[6])//2\n",
    "                x8 = int(cordinate[7])//2\n",
    "                word = str(cordinate[8])\n",
    "                f.write(\"{},{},{},{},{},{},{},{},{}\\n\".format(x1,x2,x3,x4,x5,x6,x7,x8,word))\n"
   ]
  },
  {
   "cell_type": "code",
   "execution_count": null,
   "metadata": {},
   "outputs": [],
   "source": [
    "import cv2\n",
    "import os\n",
    "import numpy as np\n",
    "if not os.path.exists(\"Art_Dataset/Image_resize\"):\n",
    "                os.makedirs(\"Art_Dataset/Image_resize\")\n",
    "imagelist = [file for file in os.listdir(\"Art_Dataset/All_img/\") if file.endswith('.jpg')]\n",
    "for image in imagelist:\n",
    "    img = cv2.imread('Art_Dataset/All_img/{}'.format(image)).astype(np.uint8)\n",
    "    img_h,img_w,_=img.shape\n",
    "    iresized_image = cv2.resize(img, (img_w//2, img_h//2))\n",
    "    cv2.imwrite(\"Art_Dataset/Image_resize/{}.jpg\".format(image[:-4]),iresized_image)"
   ]
  },
  {
   "cell_type": "code",
   "execution_count": null,
   "metadata": {},
   "outputs": [],
   "source": [
    "##########  convert rgb images into 8bit gray scale #####################"
   ]
  },
  {
   "cell_type": "code",
   "execution_count": null,
   "metadata": {},
   "outputs": [],
   "source": [
    "import cv2\n",
    "import os\n",
    "import numpy as np"
   ]
  },
  {
   "cell_type": "code",
   "execution_count": null,
   "metadata": {},
   "outputs": [],
   "source": [
    "imagelist = [file for file in os.listdir(\"Art_Dataset/Com_img/\") if file.endswith('.ppm')]\n",
    "print(len(imagelist))\n",
    "if not os.path.exists(\"Art_Dataset/com_gray\"):\n",
    "    os.mkdir(\"Art_Dataset/com_gray/\")"
   ]
  },
  {
   "cell_type": "code",
   "execution_count": null,
   "metadata": {},
   "outputs": [],
   "source": [
    "for image in imagelist:\n",
    "    img = cv2.imread(\"Art_Dataset/Com_img/{}\".format(image)).astype(np.uint8)\n",
    "    img_gray = cv2.cvtColor(img,cv2.COLOR_BGR2GRAY)\n",
    "    new_name = image[:-4]\n",
    "    cv2.imwrite(\"Art_Dataset/com_gray/{}.png\".format(new_name),img_gray)"
   ]
  },
  {
   "cell_type": "code",
   "execution_count": null,
   "metadata": {},
   "outputs": [],
   "source": [
    "########  vocabulary generation from string #######################################"
   ]
  },
  {
   "cell_type": "code",
   "execution_count": null,
   "metadata": {},
   "outputs": [],
   "source": [
    "strg = 'ABCDEFGHIJKLMNOPQRSTUVWXYZ'\n",
    "strlist = list(strg)"
   ]
  },
  {
   "cell_type": "code",
   "execution_count": null,
   "metadata": {},
   "outputs": [],
   "source": [
    "with open('vocab_3.txt','w') as f:\n",
    "    for i in range(len(strlist)):\n",
    "        stri1 = strlist[i]\n",
    "        for j in range(len(strlist)):\n",
    "            stri2 = strlist[j]\n",
    "            for k in range(len(strlist)):\n",
    "                stri3 = strlist[k]\n",
    "                con_strg = '{}{}{}'.format(stri1,stri2,stri3)\n",
    "                f.write('{}\\n'.format(con_strg))\n"
   ]
  },
  {
   "cell_type": "code",
   "execution_count": null,
   "metadata": {},
   "outputs": [],
   "source": [
    "with open('vocab_2.txt','w') as f:\n",
    "        for i in range(len(strlist)):\n",
    "            stri1 = strlist[i]\n",
    "            for j in range(len(strlist)):\n",
    "                stri2 = strlist[j]\n",
    "                con_strg = '{}{}'.format(stri1,stri2)\n",
    "                f.write('{}\\n'.format(con_strg))\n"
   ]
  },
  {
   "cell_type": "code",
   "execution_count": null,
   "metadata": {},
   "outputs": [],
   "source": [
    "# generate vocab_2 17576 lines \n",
    "count = 1\n",
    "with open('vocab_2_final.txt','w') as writ:\n",
    "    while True:\n",
    "        fr= open('vocab_2.txt','r')\n",
    "        if count==29792:\n",
    "            break\n",
    "        for line in fr.read().splitlines():\n",
    "            writ.write('{}\\n'.format(line))\n",
    "            count+=1\n",
    "            if count==29792:\n",
    "                break\n"
   ]
  },
  {
   "cell_type": "code",
   "execution_count": null,
   "metadata": {},
   "outputs": [],
   "source": [
    "##########  add number #####################################"
   ]
  },
  {
   "cell_type": "code",
   "execution_count": null,
   "metadata": {},
   "outputs": [],
   "source": [
    "strg1 = 'ABCDEFGHIJKLMNOPQRSTUVWXYZ'\n",
    "strlist1 = list(strg1)\n",
    "strg2 = '12345'\n",
    "strlist2 = list(strg2)"
   ]
  },
  {
   "cell_type": "code",
   "execution_count": null,
   "metadata": {},
   "outputs": [],
   "source": [
    "with open('vocab_num_2_1.txt','w') as f:\n",
    "        for i in range(len(strlist2)):\n",
    "            stri1 = strlist2[i]\n",
    "            for j in range(len(strlist1)):\n",
    "                stri2 = strlist1[j]\n",
    "                con_strg = '{}{}'.format(stri2,stri1)\n",
    "                f.write('{}\\n'.format(con_strg))\n"
   ]
  },
  {
   "cell_type": "code",
   "execution_count": null,
   "metadata": {},
   "outputs": [],
   "source": [
    "with open('vocab_num_3_2.txt','w') as f:\n",
    "    for i in range(len(strlist2)):\n",
    "        stri1 = strlist2[i]\n",
    "        for j in range(len(strlist1)):\n",
    "            stri2 = strlist1[j]\n",
    "            for k in range(len(strlist1)):\n",
    "                stri3 = strlist1[k]\n",
    "                con_strg = '{}{}{}'.format(stri2,stri3,stri1)\n",
    "                f.write('{}\\n'.format(con_strg))\n"
   ]
  },
  {
   "cell_type": "code",
   "execution_count": null,
   "metadata": {},
   "outputs": [],
   "source": []
  }
 ],
 "metadata": {
  "kernelspec": {
   "display_name": "Python 3",
   "language": "python",
   "name": "python3"
  },
  "language_info": {
   "codemirror_mode": {
    "name": "ipython",
    "version": 3
   },
   "file_extension": ".py",
   "mimetype": "text/x-python",
   "name": "python",
   "nbconvert_exporter": "python",
   "pygments_lexer": "ipython3",
   "version": "3.6.8"
  }
 },
 "nbformat": 4,
 "nbformat_minor": 2
}
