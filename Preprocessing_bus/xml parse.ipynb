{
 "cells": [
  {
   "cell_type": "code",
   "execution_count": 1,
   "metadata": {},
   "outputs": [],
   "source": [
    "import xml.etree.ElementTree as ET\n",
    "import os\n",
    "xmlfiles = [file for file in os.listdir('test_data/') if file.endswith('.xml')]\n",
    "if not os.path.exists(\"ori_gt\"):\n",
    "                os.makedirs(\"ori_gt\")"
   ]
  },
  {
   "cell_type": "code",
   "execution_count": 2,
   "metadata": {},
   "outputs": [
    {
     "name": "stdout",
     "output_type": "stream",
     "text": [
      "J\n",
      "W\n",
      "W\n",
      "L\n",
      "N\n",
      "J\n",
      "Y\n",
      "J\n",
      "W\n",
      "W\n",
      "L\n",
      "O\n",
      "G\n",
      "R\n",
      "J\n",
      "W\n",
      "W\n",
      "W\n",
      "O\n",
      "G\n",
      "F\n",
      "J\n",
      "W\n",
      "W\n",
      "L\n",
      "O\n",
      "D\n",
      "Y\n",
      "J\n",
      "W\n",
      "W\n",
      "L\n",
      "O\n",
      "C\n",
      "A\n",
      "J\n",
      "W\n",
      "W\n",
      "R\n",
      "O\n",
      "F\n",
      "3\n",
      "J\n",
      "W\n",
      "W\n",
      "R\n",
      "O\n",
      "G\n",
      "P\n",
      "J\n",
      "W\n",
      "W\n",
      "L\n",
      "O\n",
      "G\n",
      "A\n",
      "J\n",
      "W\n",
      "W\n",
      "L\n",
      "O\n",
      "D\n",
      "W\n",
      "J\n",
      "W\n",
      "W\n",
      "L\n",
      "O\n",
      "G\n",
      "B\n",
      "J\n",
      "W\n",
      "W\n",
      "L\n",
      "O\n",
      "D\n",
      "H\n"
     ]
    }
   ],
   "source": [
    "for xm in xmlfiles:\n",
    "    tree = ET.parse('test_data/{}'.format(xm))\n",
    "    root = tree.getroot()\n",
    "    with open('ori_gt/gt_{}.txt'.format(xm[:-4]),'w') as f:\n",
    "        for child in root.findall('object'):\n",
    "            word = child[0].text\n",
    "            print(word)\n",
    "            for a in child.findall('bndbox'):\n",
    "                xmin = a[0].text\n",
    "                ymin = a[1].text\n",
    "                xmax = a[2].text\n",
    "                ymax = a[3].text\n",
    "                f.write('{},{},{},{},{},{},{},{},{}\\n'.format(xmin,ymin,xmax,ymin,xmax,ymax,xmin,ymax,word))\n"
   ]
  },
  {
   "cell_type": "code",
   "execution_count": 3,
   "metadata": {},
   "outputs": [],
   "source": [
    "from PIL import Image\n",
    "img = Image.open('test_data/51.png')\n",
    "if not os.path.exists('store_test_image/'):\n",
    "    os.mkdir('store_test_image/')"
   ]
  },
  {
   "cell_type": "code",
   "execution_count": 5,
   "metadata": {},
   "outputs": [],
   "source": [
    "with open('ori_gt/gt_51.txt') as f:\n",
    "    num = 8\n",
    "    for line in f.read().splitlines():\n",
    "        cor = line.split(',')\n",
    "        x1 = int(cor[0])\n",
    "        y1 = int(cor[1])\n",
    "        x2 = int(cor[4])\n",
    "        y2 = int(cor[5])\n",
    "        image = img.crop((x1,y1,x2,y2))\n",
    "        image.save('store_test_image/{}.jpg'.format(num))\n",
    "        num=num+1"
   ]
  },
  {
   "cell_type": "code",
   "execution_count": null,
   "metadata": {},
   "outputs": [],
   "source": []
  }
 ],
 "metadata": {
  "kernelspec": {
   "display_name": "Python 3",
   "language": "python",
   "name": "python3"
  },
  "language_info": {
   "codemirror_mode": {
    "name": "ipython",
    "version": 3
   },
   "file_extension": ".py",
   "mimetype": "text/x-python",
   "name": "python",
   "nbconvert_exporter": "python",
   "pygments_lexer": "ipython3",
   "version": "3.6.8"
  }
 },
 "nbformat": 4,
 "nbformat_minor": 2
}
