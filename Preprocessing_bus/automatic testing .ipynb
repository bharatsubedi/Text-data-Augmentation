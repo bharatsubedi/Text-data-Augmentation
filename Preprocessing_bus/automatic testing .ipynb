{
 "cells": [
  {
   "cell_type": "code",
   "execution_count": null,
   "metadata": {},
   "outputs": [],
   "source": [
    "#####  converting all gt file into single string"
   ]
  },
  {
   "cell_type": "code",
   "execution_count": null,
   "metadata": {},
   "outputs": [],
   "source": [
    "import os\n",
    "gtfiles = [file for file in os.listdir(\"img_50_gt/\") if file.endswith('.txt')]\n",
    "if not os.path.exists(\"img_50_new_result/\"):\n",
    "                os.makedirs(\"img_50_new_result/\")\n",
    "for gt in gtfiles:\n",
    "    with open(\"img_50_new_result/{}\".format(gt),\"w\",newline='') as f:\n",
    "        with open(\"img_50_gt/{}\".format(gt),\"r\",newline='') as readgt:\n",
    "            full_string = []\n",
    "            for line in readgt.readlines():\n",
    "                cordinate = line.split(',')\n",
    "                word = str(cordinate[8])\n",
    "                full_string.append(word.strip(\"\\n\"))\n",
    "            stri=''.join(full_string)\n",
    "            f.write(\"{}\".format(stri))"
   ]
  },
  {
   "cell_type": "code",
   "execution_count": null,
   "metadata": {},
   "outputs": [],
   "source": [
    "########## convert string into list "
   ]
  },
  {
   "cell_type": "code",
   "execution_count": null,
   "metadata": {},
   "outputs": [],
   "source": [
    "yourstring = 'abc'\n",
    "stri=[char for char in yourstring]\n",
    "print(stri)"
   ]
  },
  {
   "cell_type": "code",
   "execution_count": null,
   "metadata": {},
   "outputs": [],
   "source": [
    "##############"
   ]
  },
  {
   "cell_type": "code",
   "execution_count": null,
   "metadata": {},
   "outputs": [],
   "source": [
    "strin1 = 'JWWROM'\n",
    "seq1 ='JWWROBM'\n",
    "gt = 'file'\n",
    "count_string = 0\n",
    "wrong_string =0\n",
    "count_char = 0\n",
    "wrong_char = 0\n",
    "compare_file = open(\"{}.txt\".format(gt), \"w\")\n",
    "f = open('img_50_new_result/gt_1.txt', 'r')\n",
    "image_name = '1.png'\n",
    "string = f.read()\n",
    "compare_file.write(\"----------{}-------------\\n\".format(image_name))\n",
    "correct_char = ''\n",
    "compare_string = ''\n",
    "\n",
    "# comparing by ==\n",
    "if strin1 == string:\n",
    "    # pass\n",
    "    compare_string = \"recognized result is same::ground_truth::{}::recognized::{}\".format(string, strin1)\n",
    "    compare_file.write(\"{}\\n\".format(compare_string))\n",
    "    count_string+=1\n",
    "else:\n",
    "    compare_string = \"recognized result is different::ground_truth::{}::recognized::{}\".format(string, strin1)\n",
    "    compare_file.write(\"{}\\n\".format(compare_string))\n",
    "    wrong_string+=1\n",
    "\n",
    "str_result = [char for char in strin1]\n",
    "str_gt = [char1 for char1 in string]\n",
    "\n",
    "if len(string) == len(strin1):\n",
    "    for a in range(len(str_gt)):\n",
    "        if str_result[a] == str_gt[a]:\n",
    "            # pass\n",
    "            correct_char = \"recognized character is same::ground_truth::{}::recognized::{}\".format(str_gt[a],\n",
    "                                                                                                   str_result[a])\n",
    "            count_char+=1\n",
    "        else:\n",
    "            correct_char = \"recognized character is different::ground_truth::{}::recognized::{}\".format(str_gt[a],\n",
    "                                                                                                        str_result[a])\n",
    "            wrong_char+=1\n",
    "            compare_file.write(\"{}\\n\".format(correct_char))\n",
    "\n",
    "elif len(string) > len(strin1):\n",
    "    length = len(strin1)\n",
    "    new_string = \"Extra_string on ground_truth::\" + string[length:]\n",
    "    compare_file.write(\"{}\\n\".format(new_string))\n",
    "    for a in range(len(strin1)):\n",
    "        if str_result[a] == str_gt[a]:\n",
    "            # pass\n",
    "            correct_char = \"recognized character is same::ground_truth::{}::recognized::{}\".format(str_gt[a],\n",
    "                                                                                                   str_result[a])\n",
    "            count_char+=1\n",
    "        else:\n",
    "            correct_char = \"recognized character is different::ground_truth::{}::recognized::{}\".format(str_gt[a],\n",
    "                                                                                                       str_result[a])\n",
    "            wrong_char+=1\n",
    "            compare_file.write(\"{}\\n\".format(correct_char))\n",
    "\n",
    "elif len(string) < len(strin1):\n",
    "    length = len(string)\n",
    "    new_string = \"Extra_string on recognition_result::\" + strin1[length:]\n",
    "    compare_file.write(\"{}\\n\".format(new_string))\n",
    "    for a in range(len(string)):\n",
    "        if str_result[a] == str_gt[a]:\n",
    "            # pass\n",
    "            correct_char = \"recognized character is same::ground_truth::{}::recognized::{}\".format(str_gt[a],\n",
    "                                                                                                   str_result[a])\n",
    "            count_char+=1\n",
    "        else:\n",
    "            correct_char = \"recognized character is different::ground_truth::{}::recognized::{}\".format(str_gt[a],\n",
    "                                                                                                        str_result[a])\n",
    "            wrong_char+=1\n",
    "            compare_file.write(\"{}\\n\".format(correct_char))\n",
    "compare_file.write(\"Total_correct_id::{}\\n\".format(count_string))\n",
    "compare_file.write(\"Total_Incorrect_id::{}\\n\".format(wrong_string))\n",
    "compare_file.write(\"Total_correct_character::{}\\n\".format(count_char))\n",
    "compare_file.write(\"Total_Incorrect_character::{}\\n\".format(wrong_char))"
   ]
  },
  {
   "cell_type": "code",
   "execution_count": null,
   "metadata": {},
   "outputs": [],
   "source": [
    "import numpy as np\n",
    "\n",
    "def levenshtein(seq1, seq2):\n",
    "    size_x = len(seq1) + 1\n",
    "    size_y = len(seq2) + 1\n",
    "    matrix = np.zeros ((size_x, size_y))\n",
    "    for x in range(size_x):\n",
    "        matrix [x, 0] = x\n",
    "    for y in range(size_y):\n",
    "        matrix [0, y] = y\n",
    "    for x in range(1, size_x):\n",
    "        for y in range(1, size_y):\n",
    "            if seq1[x-1] == seq2[y-1]:\n",
    "                matrix [x,y] = min(\n",
    "                    matrix[x-1, y] + 1,\n",
    "                    matrix[x-1, y-1],\n",
    "                    matrix[x, y-1] + 1\n",
    "                )\n",
    "            else:\n",
    "                matrix [x,y] = min(\n",
    "                    matrix[x-1,y] + 1,\n",
    "                    matrix[x-1,y-1] + 1,\n",
    "                    matrix[x,y-1] + 1\n",
    "                )\n",
    "    #print (matrix)\n",
    "    return matrix"
   ]
  },
  {
   "cell_type": "code",
   "execution_count": 39,
   "metadata": {},
   "outputs": [
    {
     "name": "stdout",
     "output_type": "stream",
     "text": [
      "9\n",
      "4.0\n"
     ]
    }
   ],
   "source": [
    "seq2 = 'JWWOBMMMM'\n",
    "seq1 ='JWWROBM'\n",
    "m = levenshtein(seq1, seq2)\n",
    "print(len(seq2))\n",
    "wrong=m[-1][-1]\n",
    "print(m[-1][-1])"
   ]
  },
  {
   "cell_type": "code",
   "execution_count": 42,
   "metadata": {},
   "outputs": [],
   "source": [
    "\n",
    "def stringfinding(seq1,seq2):\n",
    "    str_result = [char for char in seq2]\n",
    "    str_gt = [char1 for char1 in seq1]\n",
    "    print(str_result)\n",
    "    print(str_gt)\n",
    "    index1 = 0\n",
    "    index2 = 0\n",
    "    match_char=0\n",
    "    for a in reversed(range(len(seq1) + 1 + index1)):\n",
    "        for b in reversed(range(len(seq2) + 1 + index2)):\n",
    "            if a > 0 and b > 0:\n",
    "                min_value = min(m[a - 1][b], m[a - 1][b - 1], m[a][b - 1])\n",
    "                ab = m[a - 1][b]\n",
    "                ac = m[a - 1][b - 1]\n",
    "                ad = m[a][b - 1]\n",
    "                if min_value == m[a - 1][b - 1]:\n",
    "                    a_value = seq1[a - 1]\n",
    "                    b_value = seq2[b - 1]\n",
    "                    if seq1[a - 1] == seq2[b - 1]:\n",
    "                        index1 += -1\n",
    "                        index2 += -1\n",
    "                        match_char+=1\n",
    "                        #print(\"matching char::\", seq1[a - 1])\n",
    "                        break\n",
    "                    else:\n",
    "                        index1 += -1\n",
    "                        index2 += -1\n",
    "                        print(\"seq2_value::{} to be replace by seq1 value::{}\".format(seq2[b - 1],seq1[a - 1]))\n",
    "                        break\n",
    "                else:\n",
    "                    if min_value == m[a][b - 1]:\n",
    "                        index1 += 0\n",
    "                        index2 += -1\n",
    "                        print(\"delete_str_result::\", seq2[b - 1])\n",
    "                    if min_value == m[a - 1][b]:\n",
    "                        index1 += -1\n",
    "                        index2 += 0\n",
    "                        print(\"add-new-str-result::\", seq1[a - 1])\n",
    "                        break\n",
    "    return match_char\n"
   ]
  },
  {
   "cell_type": "code",
   "execution_count": 44,
   "metadata": {},
   "outputs": [
    {
     "name": "stdout",
     "output_type": "stream",
     "text": [
      "['J', 'W', 'W', 'O', 'B', 'M', 'M', 'M', 'M']\n",
      "['J', 'W', 'W', 'R', 'O', 'B', 'M']\n",
      "delete_str_result:: M\n",
      "delete_str_result:: M\n",
      "delete_str_result:: M\n",
      "add-new-str-result:: R\n",
      "correct:: 6\n",
      "wrong:: 4.0\n"
     ]
    }
   ],
   "source": [
    "seq2 = 'JWWOBMMMM'\n",
    "seq1 ='JWWROBM'\n",
    "match=stringfinding(seq1,seq2)\n",
    "print(\"correct::\", match)\n",
    "print(\"wrong::\", wrong)"
   ]
  },
  {
   "cell_type": "code",
   "execution_count": null,
   "metadata": {},
   "outputs": [],
   "source": []
  }
 ],
 "metadata": {
  "kernelspec": {
   "display_name": "Python 3",
   "language": "python",
   "name": "python3"
  },
  "language_info": {
   "codemirror_mode": {
    "name": "ipython",
    "version": 3
   },
   "file_extension": ".py",
   "mimetype": "text/x-python",
   "name": "python",
   "nbconvert_exporter": "python",
   "pygments_lexer": "ipython3",
   "version": "3.6.8"
  }
 },
 "nbformat": 4,
 "nbformat_minor": 2
}
