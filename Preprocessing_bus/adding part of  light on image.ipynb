{
 "cells": [
  {
   "cell_type": "code",
   "execution_count": null,
   "metadata": {},
   "outputs": [],
   "source": [
    "############  add brightness on part of image #################################"
   ]
  },
  {
   "cell_type": "code",
   "execution_count": null,
   "metadata": {},
   "outputs": [],
   "source": [
    "from PIL import Image\n",
    "import math\n",
    "import numpy as np\n",
    "def spotlight(img: Image, center: (int, int), radius: int) -> Image:\n",
    "    width, height = img.size\n",
    "    overlay_color = (0, 0, 0, 40)\n",
    "    img_overlay = Image.new(size=img.size, color=overlay_color, mode='RGBA')\n",
    "    x1 =  np.random.randint(50,500)\n",
    "    x2 =  np.random.randint(501,1600)\n",
    "    y1 =  np.random.randint(50,300)\n",
    "    y2 =  np.random.randint(301,1200)\n",
    "    x11 =  np.random.randint(50,500)\n",
    "    x21 =  np.random.randint(501,1600)\n",
    "    y11 =  np.random.randint(50,300)\n",
    "    y21 =  np.random.randint(301,1200)\n",
    "    for x in range(x1,x2):\n",
    "        for y in range(y1,y2):\n",
    "            dx = x - center[0]\n",
    "            dy = y - center[1]\n",
    "            distance = math.sqrt(dx * dx + dy * dy)\n",
    "            img_overlay.putpixel((x, y), (0, 0, 0, 0))\n",
    "    for x in range(x11,x21):\n",
    "        for y in range(y11,y21):\n",
    "            dx = x - center[0]\n",
    "            dy = y - center[1]\n",
    "            distance = math.sqrt(dx * dx + dy * dy)\n",
    "#            img_overlay.putpixel((x, y), (0, 0, 0, 0))\n",
    "            if distance < radius:\n",
    "                 img_overlay.putpixel((x, y), (0, 0, 0, 0))\n",
    "                    \n",
    "    img.paste(img_overlay, None, mask=img_overlay)\n",
    "    return img"
   ]
  },
  {
   "cell_type": "code",
   "execution_count": 13,
   "metadata": {},
   "outputs": [],
   "source": [
    "orig_file_name = '51'\n",
    "img = Image.open('{}.png'.format(orig_file_name))\n",
    "spotlight_img = spotlight(img, (500, 700), 100)\n",
    "spotlight_img.save('spotlight_{}.jpg'.format(orig_file_name))"
   ]
  },
  {
   "cell_type": "code",
   "execution_count": null,
   "metadata": {},
   "outputs": [],
   "source": [
    "imagelist = [file for file in os.listdir(\"Art_Dataset/test_img/\") if file.endswith('.png')]\n",
    "print(len(imagelist))\n",
    "if not os.path.exists(\"Art_Dataset/spotlight\"):\n",
    "    os.mkdir(\"Art_Dataset/spotlight/\")"
   ]
  },
  {
   "cell_type": "code",
   "execution_count": null,
   "metadata": {},
   "outputs": [],
   "source": [
    "for image in imagelist:\n",
    "    img = Image.open(\"Art_Dataset/test_img/{}\".format(image))\n",
    "    img = spotlight(img, (500, 700), 100)\n",
    "    img.save(\"Art_Dataset/spotlight/{}\".format(image))"
   ]
  },
  {
   "cell_type": "code",
   "execution_count": 9,
   "metadata": {},
   "outputs": [],
   "source": [
    "#https://stackoverflow.com/questions/33603304/create-a-spotlight-in-an-image-using-python"
   ]
  },
  {
   "cell_type": "code",
   "execution_count": null,
   "metadata": {},
   "outputs": [],
   "source": [
    "######## sp noise on range of image#################################"
   ]
  },
  {
   "cell_type": "code",
   "execution_count": 15,
   "metadata": {},
   "outputs": [
    {
     "ename": "IndexError",
     "evalue": "index 600 is out of bounds for axis 0 with size 600",
     "output_type": "error",
     "traceback": [
      "\u001b[0;31m---------------------------------------------------------------------------\u001b[0m",
      "\u001b[0;31mIndexError\u001b[0m                                Traceback (most recent call last)",
      "\u001b[0;32m<ipython-input-15-95147d48c542>\u001b[0m in \u001b[0;36m<module>\u001b[0;34m\u001b[0m\n\u001b[1;32m     22\u001b[0m \u001b[0;34m\u001b[0m\u001b[0m\n\u001b[1;32m     23\u001b[0m \u001b[0mimage\u001b[0m \u001b[0;34m=\u001b[0m \u001b[0mcv2\u001b[0m\u001b[0;34m.\u001b[0m\u001b[0mimread\u001b[0m\u001b[0;34m(\u001b[0m\u001b[0;34m'51.png'\u001b[0m\u001b[0;34m,\u001b[0m\u001b[0;36m0\u001b[0m\u001b[0;34m)\u001b[0m \u001b[0;31m# Only for grayscale image\u001b[0m\u001b[0;34m\u001b[0m\u001b[0;34m\u001b[0m\u001b[0m\n\u001b[0;32m---> 24\u001b[0;31m \u001b[0mnoise_img\u001b[0m \u001b[0;34m=\u001b[0m \u001b[0msp_noise\u001b[0m\u001b[0;34m(\u001b[0m\u001b[0mimage\u001b[0m\u001b[0;34m,\u001b[0m\u001b[0;36m0.05\u001b[0m\u001b[0;34m)\u001b[0m\u001b[0;34m\u001b[0m\u001b[0;34m\u001b[0m\u001b[0m\n\u001b[0m\u001b[1;32m     25\u001b[0m \u001b[0mcv2\u001b[0m\u001b[0;34m.\u001b[0m\u001b[0mimwrite\u001b[0m\u001b[0;34m(\u001b[0m\u001b[0;34m'sp_noise.jpg'\u001b[0m\u001b[0;34m,\u001b[0m \u001b[0mnoise_img\u001b[0m\u001b[0;34m)\u001b[0m\u001b[0;34m\u001b[0m\u001b[0;34m\u001b[0m\u001b[0m\n",
      "\u001b[0;32m<ipython-input-15-95147d48c542>\u001b[0m in \u001b[0;36msp_noise\u001b[0;34m(image, prob)\u001b[0m\n\u001b[1;32m     18\u001b[0m                 \u001b[0moutput\u001b[0m\u001b[0;34m[\u001b[0m\u001b[0mi\u001b[0m\u001b[0;34m]\u001b[0m\u001b[0;34m[\u001b[0m\u001b[0mj\u001b[0m\u001b[0;34m]\u001b[0m \u001b[0;34m=\u001b[0m \u001b[0;36m255\u001b[0m\u001b[0;34m\u001b[0m\u001b[0;34m\u001b[0m\u001b[0m\n\u001b[1;32m     19\u001b[0m             \u001b[0;32melse\u001b[0m\u001b[0;34m:\u001b[0m\u001b[0;34m\u001b[0m\u001b[0;34m\u001b[0m\u001b[0m\n\u001b[0;32m---> 20\u001b[0;31m                 \u001b[0moutput\u001b[0m\u001b[0;34m[\u001b[0m\u001b[0mi\u001b[0m\u001b[0;34m]\u001b[0m\u001b[0;34m[\u001b[0m\u001b[0mj\u001b[0m\u001b[0;34m]\u001b[0m \u001b[0;34m=\u001b[0m \u001b[0mimage\u001b[0m\u001b[0;34m[\u001b[0m\u001b[0mi\u001b[0m\u001b[0;34m]\u001b[0m\u001b[0;34m[\u001b[0m\u001b[0mj\u001b[0m\u001b[0;34m]\u001b[0m\u001b[0;34m\u001b[0m\u001b[0;34m\u001b[0m\u001b[0m\n\u001b[0m\u001b[1;32m     21\u001b[0m     \u001b[0;32mreturn\u001b[0m \u001b[0moutput\u001b[0m\u001b[0;34m\u001b[0m\u001b[0;34m\u001b[0m\u001b[0m\n\u001b[1;32m     22\u001b[0m \u001b[0;34m\u001b[0m\u001b[0m\n",
      "\u001b[0;31mIndexError\u001b[0m: index 600 is out of bounds for axis 0 with size 600"
     ]
    }
   ],
   "source": [
    "import numpy as np\n",
    "import random\n",
    "import cv2\n",
    "\n",
    "def sp_noise(image,prob):\n",
    "    '''\n",
    "    Add salt and pepper noise to image\n",
    "    prob: Probability of the noise\n",
    "    '''\n",
    "    output = np.zeros((400,600),np.uint8)\n",
    "    thres = 1 - prob \n",
    "    for i in range(image.shape[0]):\n",
    "        for j in range(image.shape[1]):\n",
    "            rdn = random.random()\n",
    "            if rdn < prob:\n",
    "                output[i][j] = 0\n",
    "            elif rdn > thres:\n",
    "                output[i][j] = 255\n",
    "            else:\n",
    "                output[i][j] = image[i][j]\n",
    "    return output\n",
    "\n",
    "image = cv2.imread('51.png',0) # Only for grayscale image\n",
    "noise_img = sp_noise(image,0.05)\n",
    "cv2.imwrite('sp_noise.jpg', noise_img)"
   ]
  },
  {
   "cell_type": "code",
   "execution_count": null,
   "metadata": {},
   "outputs": [],
   "source": [
    "##########  ramdom controlling bluring and lighting #################"
   ]
  },
  {
   "cell_type": "code",
   "execution_count": 16,
   "metadata": {},
   "outputs": [],
   "source": [
    "def _decayed_value_in_norm(x, max_value, min_value, center, range):\n",
    "    \"\"\"\n",
    "    decay from max value to min value following Gaussian/Normal distribution\n",
    "    \"\"\"\n",
    "    radius = range / 3\n",
    "    center_prob = norm.pdf(center, center, radius)\n",
    "    x_prob = norm.pdf(x, center, radius)\n",
    "    x_value = (x_prob / center_prob) * (max_value - min_value) + min_value\n",
    "    return x_value\n",
    "def _decayed_value_in_linear(x, max_value, padding_center, decay_rate):\n",
    "    \"\"\"\n",
    "    decay from max value to min value with static linear decay rate.\n",
    "    \"\"\"\n",
    "    x_value = max_value - abs(padding_center - x) * decay_rate\n",
    "    if x_value < 0:\n",
    "        x_value = 1\n",
    "    return x_value"
   ]
  },
  {
   "cell_type": "code",
   "execution_count": 20,
   "metadata": {},
   "outputs": [],
   "source": [
    "import cv2\n",
    "import numpy as np\n",
    "import random\n",
    "from scipy.stats import norm\n",
    "\n",
    "def generate_parallel_light_mask(mask_size,\n",
    "                                 position=None,\n",
    "                                 direction=None,\n",
    "                                 max_brightness=255,\n",
    "                                 min_brightness=0,\n",
    "                                 mode=\"gaussian\",\n",
    "                                 linear_decay_rate=None):\n",
    "    if position is None:\n",
    "        pos_x = random.randint(0, mask_size[0])\n",
    "        pos_y = random.randint(0, mask_size[1])\n",
    "    else:\n",
    "        pos_x = position[0]\n",
    "        pos_y = position[1]\n",
    "    if direction is None:\n",
    "        direction = random.randint(0, 360)\n",
    "        print(\"Rotate degree: \", direction)\n",
    "    if linear_decay_rate is None:\n",
    "        if mode == \"linear_static\":\n",
    "            linear_decay_rate = random.uniform(0.2, 2)\n",
    "        if mode == \"linear_dynamic\":\n",
    "            linear_decay_rate = (max_brightness - min_brightness) / max(mask_size)\n",
    "    assert mode in [\"linear_dynamic\", \"linear_static\", \"gaussian\"], \\\n",
    "        \"mode must be linear_dynamic, linear_static or gaussian\"\n",
    "    padding = int(max(mask_size) * np.sqrt(2))\n",
    "    # add padding to satisfy cropping after rotating\n",
    "    canvas_x = padding * 2 + mask_size[0]\n",
    "    canvas_y = padding * 2 + mask_size[1]\n",
    "    mask = np.zeros(shape=(canvas_y, canvas_x), dtype=np.float32)\n",
    "    # initial mask's up left corner and bottom right corner coordinate\n",
    "    init_mask_ul = (int(padding), int(padding))\n",
    "    init_mask_br = (int(padding+mask_size[0]), int(padding+mask_size[1]))\n",
    "    init_light_pos = (padding + pos_x, padding + pos_y)\n",
    "    # fill in mask row by row with value decayed from center\n",
    "    for i in range(canvas_y):\n",
    "        if mode == \"linear_static\":\n",
    "            i_value = _decayed_value_in_linear(i, max_brightness, init_light_pos[1], linear_decay_rate)\n",
    "        elif mode == \"gaussian\":\n",
    "            i_value = _decayed_value_in_norm(i, max_brightness, min_brightness, init_light_pos[1], mask_size[1])\n",
    "        else:\n",
    "            i_value = 0\n",
    "        mask[i] = i_value\n",
    "    # rotate mask\n",
    "    rotate_M = cv2.getRotationMatrix2D(init_light_pos, direction, 1)\n",
    "    mask = cv2.warpAffine(mask, rotate_M, (canvas_x,  canvas_y))\n",
    "    # crop\n",
    "    mask = mask[init_mask_ul[1]:init_mask_br[1], init_mask_ul[0]:init_mask_br[0]]\n",
    "    mask = np.asarray(mask, dtype=np.uint8)\n",
    "    # add median blur\n",
    "    mask = cv2.medianBlur(mask, 9)\n",
    "    mask = 255 - mask\n",
    "    return mask"
   ]
  },
  {
   "cell_type": "code",
   "execution_count": 21,
   "metadata": {},
   "outputs": [],
   "source": [
    "def add_parallel_light(image, light_position=None, direction=None, max_brightness=255, min_brightness=0,\n",
    "                       mode=\"linear_static\", linear_decay_rate=None, transparency=None):\n",
    "    \"\"\"\n",
    "    Add mask generated from parallel light to given image\n",
    "    \"\"\"\n",
    "    if transparency is None:\n",
    "        transparency = random.uniform(0.5, 0.85)\n",
    "    frame = cv2.imread(image)\n",
    "    height, width, _ = frame.shape\n",
    "    hsv = cv2.cvtColor(frame, cv2.COLOR_BGR2HSV)\n",
    "    mask = generate_parallel_light_mask(mask_size=(width, height),\n",
    "                                        position=light_position,\n",
    "                                        direction=direction,\n",
    "                                        max_brightness=max_brightness,\n",
    "                                        min_brightness=min_brightness,\n",
    "                                        mode=mode,\n",
    "                                        linear_decay_rate=linear_decay_rate)\n",
    "    hsv[:, :, 2] = hsv[:, :, 2] * transparency + mask * (1 - transparency)\n",
    "    frame = cv2.cvtColor(hsv, cv2.COLOR_HSV2BGR)\n",
    "    frame[frame > 255] = 255\n",
    "    frame = np.asarray(frame, dtype=np.uint8)\n",
    "    return frame"
   ]
  },
  {
   "cell_type": "code",
   "execution_count": 22,
   "metadata": {},
   "outputs": [
    {
     "name": "stdout",
     "output_type": "stream",
     "text": [
      "Rotate degree:  280\n"
     ]
    },
    {
     "data": {
      "text/plain": [
       "True"
      ]
     },
     "execution_count": 22,
     "metadata": {},
     "output_type": "execute_result"
    }
   ],
   "source": [
    "img = \"51.png\"\n",
    "img =add_parallel_light(img)\n",
    "cv2.imwrite('light.jpg', img)"
   ]
  },
  {
   "cell_type": "code",
   "execution_count": null,
   "metadata": {},
   "outputs": [],
   "source": [
    "imagelist = [file for file in os.listdir(\"Art_Dataset/test_img/\") if file.endswith('.png')]\n",
    "print(len(imagelist))\n",
    "if not os.path.exists(\"Art_Dataset/add_parallel_light\"):\n",
    "    os.mkdir(\"Art_Dataset/add_parallel_light/\")"
   ]
  },
  {
   "cell_type": "code",
   "execution_count": null,
   "metadata": {},
   "outputs": [],
   "source": [
    "for image in imagelist:\n",
    "    img = Image.open(\"Art_Dataset/test_img/{}\".format(image))\n",
    "    img = add_parallel_light(img)\n",
    "    img.save(\"Art_Dataset/add_parallel_light/{}\".format(image))"
   ]
  },
  {
   "cell_type": "code",
   "execution_count": 104,
   "metadata": {},
   "outputs": [],
   "source": [
    "#create rainy snow shadow data for autonomous driving####################\n",
    "#https://www.freecodecamp.org/news/image-augmentation-make-it-rain-make-it-snow-how-to-modify-a-photo-with-machine-learning-163c0cb3843f/"
   ]
  },
  {
   "cell_type": "code",
   "execution_count": 56,
   "metadata": {},
   "outputs": [],
   "source": [
    "def add_brightness(image): \n",
    "    image_HLS = cv2.cvtColor(image,cv2.COLOR_RGB2HLS) \n",
    "    ## Conversion to HLS    \n",
    "    image_HLS = np.array(image_HLS, dtype = np.float64)   \n",
    "    random_brightness_coefficient = np.random.uniform()+0.5\n",
    "    ## generates value between 0.5 and 1.5    \n",
    "    image_HLS[:,:,1] = image_HLS[:,:,1]*random_brightness_coefficient\n",
    "    ## scale pixel values up or down for channel 1(Lightness)    \n",
    "    image_HLS[:,:,1][image_HLS[:,:,1]>255]  = 255\n",
    "    ##Sets all values above 255 to 255    \n",
    "    image_HLS = np.array(image_HLS, dtype = np.uint8)    \n",
    "    image_RGB = cv2.cvtColor(image_HLS,cv2.COLOR_HLS2RGB) \n",
    "    ## Conversion to RGB    \n",
    "    return image_RGB"
   ]
  },
  {
   "cell_type": "code",
   "execution_count": 57,
   "metadata": {},
   "outputs": [
    {
     "data": {
      "text/plain": [
       "True"
      ]
     },
     "execution_count": 57,
     "metadata": {},
     "output_type": "execute_result"
    }
   ],
   "source": [
    "image = cv2.imread('51.png')\n",
    "img = add_brightness(image)\n",
    "cv2.imwrite('sunny.jpg', img)"
   ]
  },
  {
   "cell_type": "code",
   "execution_count": 58,
   "metadata": {},
   "outputs": [],
   "source": [
    "def generate_shadow_coordinates(imshape, no_of_shadows=1): \n",
    "    vertices_list=[]    \n",
    "    for index in range(no_of_shadows):\n",
    "        vertex=[] \n",
    "        for dimensions in range(np.random.randint(3,15)):\n",
    "            ## Dimensionality of the shadow polygon \n",
    "            vertex.append(( imshape[1]*np.random.uniform(),imshape[0]//3+imshape[0]*np.random.uniform()))     \n",
    "            vertices = np.array([vertex], dtype=np.int32) ## single shadow vertices        \n",
    "            vertices_list.append(vertices)   \n",
    "            return vertices_list ## List of shadow vertices"
   ]
  },
  {
   "cell_type": "code",
   "execution_count": 59,
   "metadata": {},
   "outputs": [],
   "source": [
    "def add_shadow(image,no_of_shadows=1):\n",
    "    image_HLS = cv2.cvtColor(image,cv2.COLOR_RGB2HLS) ## Conversion to HLS  \n",
    "    mask = np.zeros_like(image)    \n",
    "    imshape = image.shape   \n",
    "    vertices_list= generate_shadow_coordinates(imshape, no_of_shadows) #3 getting list of shadow vertices  \n",
    "    for vertices in vertices_list:   \n",
    "        cv2.fillPoly(mask, vertices, 255) ## adding all shadow polygons on empty mask, single 255 denotes only red channel  \n",
    "        image_HLS[:,:,1][mask[:,:,0]==255] = image_HLS[:,:,1][mask[:,:,0]==255]*0.5   ## if red channel is hot, image's \"Lightness\" channel's brightness is lowered   \n",
    "        image_RGB = cv2.cvtColor(image_HLS,cv2.COLOR_HLS2RGB) ## Conversion to RGB   \n",
    "        return image_RGB"
   ]
  },
  {
   "cell_type": "code",
   "execution_count": 61,
   "metadata": {},
   "outputs": [
    {
     "data": {
      "text/plain": [
       "True"
      ]
     },
     "execution_count": 61,
     "metadata": {},
     "output_type": "execute_result"
    }
   ],
   "source": [
    "image = cv2.imread('51.png')\n",
    "img = add_shadow(image)\n",
    "cv2.imwrite('shadows.jpg', img)"
   ]
  },
  {
   "cell_type": "code",
   "execution_count": 62,
   "metadata": {},
   "outputs": [],
   "source": [
    "def add_snow(image):\n",
    "    image_HLS = cv2.cvtColor(image,cv2.COLOR_RGB2HLS) ## Conversion to HLS  \n",
    "    image_HLS = np.array(image_HLS, dtype = np.float64)  \n",
    "    brightness_coefficient = 2.5   \n",
    "    snow_point=140 ## increase this for more snow   \n",
    "    image_HLS[:,:,1][image_HLS[:,:,1]<snow_point] = image_HLS[:,:,1][image_HLS[:,:,1]<snow_point]*brightness_coefficient ## scale pixel values up for channel 1(Lightness) \n",
    "    image_HLS[:,:,1][image_HLS[:,:,1]>255]  = 255 ##Sets all values above 255 to 255  \n",
    "    image_HLS = np.array(image_HLS, dtype = np.uint8)   \n",
    "    image_RGB = cv2.cvtColor(image_HLS,cv2.COLOR_HLS2RGB) ## Conversion to RGB    \n",
    "    return image_RGB"
   ]
  },
  {
   "cell_type": "code",
   "execution_count": 63,
   "metadata": {},
   "outputs": [
    {
     "data": {
      "text/plain": [
       "True"
      ]
     },
     "execution_count": 63,
     "metadata": {},
     "output_type": "execute_result"
    }
   ],
   "source": [
    "image = cv2.imread('51.png')\n",
    "img = add_shadow(image)\n",
    "cv2.imwrite('snow.jpg', img)"
   ]
  },
  {
   "cell_type": "code",
   "execution_count": 131,
   "metadata": {},
   "outputs": [],
   "source": [
    "def generate_random_lines(imshape,slant,drop_length):\n",
    "    drops=[]    \n",
    "    for i in range(1400): ## If You want heavy rain, try increasing this       \n",
    "        if slant<0:           \n",
    "            x= np.random.randint(slant,imshape[1])      \n",
    "        else:   \n",
    "            x= np.random.randint(0,imshape[1]-slant)    \n",
    "            y= np.random.randint(0,imshape[0]-drop_length)      \n",
    "            drops.append((x,y))  \n",
    "    return drops           \n",
    "def add_rain(image):      \n",
    "    imshape = image.shape  \n",
    "    slant_extreme=7    \n",
    "    slant= np.random.randint(-slant_extreme,slant_extreme)   \n",
    "    drop_length=10  \n",
    "    drop_width=2   \n",
    "    drop_color=(210,210,210) ## a shade of gray   \n",
    "    rain_drops= generate_random_lines(imshape,slant,drop_length)      \n",
    "    for rain_drop in rain_drops:       \n",
    "        cv2.line(image,(rain_drop[0],rain_drop[1]),(rain_drop[0]+slant,rain_drop[1]+drop_length),drop_color,drop_width)   \n",
    "    image= cv2.blur(image,(4,4)) ## rainy view are blurry    \n",
    "    brightness_coefficient = 0.9 ## rainy days are usually shady   \n",
    "    image_HLS = cv2.cvtColor(image,cv2.COLOR_RGB2HLS) ## Conversion to HLS \n",
    "    image_HLS[:,:,1] = image_HLS[:,:,1]*brightness_coefficient ## scale pixel values down for channel 1(Lightness) \n",
    "    image_RGB = cv2.cvtColor(image_HLS,cv2.COLOR_HLS2RGB) ## Conversion to RGB   \n",
    "    return image_RGB"
   ]
  },
  {
   "cell_type": "code",
   "execution_count": 132,
   "metadata": {},
   "outputs": [
    {
     "data": {
      "text/plain": [
       "True"
      ]
     },
     "execution_count": 132,
     "metadata": {},
     "output_type": "execute_result"
    }
   ],
   "source": [
    "image = cv2.imread('51.png')\n",
    "img = add_rain(image)\n",
    "cv2.imwrite('rain.jpg', img)"
   ]
  },
  {
   "cell_type": "code",
   "execution_count": null,
   "metadata": {},
   "outputs": [],
   "source": [
    "##############  end ##################"
   ]
  },
  {
   "cell_type": "code",
   "execution_count": null,
   "metadata": {},
   "outputs": [],
   "source": [
    "############3  adjusting lighting gamma change ###################3"
   ]
  },
  {
   "cell_type": "code",
   "execution_count": 27,
   "metadata": {},
   "outputs": [
    {
     "data": {
      "text/plain": [
       "True"
      ]
     },
     "execution_count": 27,
     "metadata": {},
     "output_type": "execute_result"
    }
   ],
   "source": [
    "import cv2\n",
    "import numpy as np\n",
    "\n",
    "def adjust_gamma(image, gamma=1.0):\n",
    "    invGamma = 1.0 / gamma\n",
    "    table = np.array([((i / 255.0) ** invGamma) * 255 for i in np.arange(0, 256)]).astype(\"uint8\")\n",
    "    return cv2.LUT(image, table)\n",
    "\n",
    "x = '51.png'  #location of the image\n",
    "original = cv2.imread(x, 1)\n",
    "gamma = 1.5                                   # change the value here to get different result\n",
    "adjusted = adjust_gamma(original, gamma=gamma)\n",
    "cv2.imwrite('gamma.jpg', adjusted)"
   ]
  },
  {
   "cell_type": "code",
   "execution_count": null,
   "metadata": {},
   "outputs": [],
   "source": [
    "imagelist = [file for file in os.listdir(\"Art_Dataset/test_img/\") if file.endswith('.png')]\n",
    "print(len(imagelist))\n",
    "if not os.path.exists(\"Art_Dataset/adjust_gamma\"):\n",
    "    os.mkdir(\"Art_Dataset/adjust_gamma/\")"
   ]
  },
  {
   "cell_type": "code",
   "execution_count": null,
   "metadata": {},
   "outputs": [],
   "source": [
    "for image in imagelist:\n",
    "    img = Image.open(\"Art_Dataset/test_img/{}\".format(image))\n",
    "    img = adjust_gamma(img)\n",
    "    img.save(\"Art_Dataset/adjust_gamma/{}\".format(image))"
   ]
  },
  {
   "cell_type": "code",
   "execution_count": null,
   "metadata": {},
   "outputs": [],
   "source": [
    "#####  fake lighting ###########################"
   ]
  },
  {
   "cell_type": "code",
   "execution_count": 25,
   "metadata": {},
   "outputs": [],
   "source": [
    "import numpy as np\n",
    "def fake_light(image, tilesize=30):\n",
    "    WIDTH, HEIGHT = image.size\n",
    "    ah = np.random.randint(0,1200)\n",
    "    aw = np.random.randint(0,1600)\n",
    "    print(\"ah:\", ah)\n",
    "    print(\"aw:\", aw)\n",
    "    for x in range(0, WIDTH, tilesize):\n",
    "        for y in range(0, HEIGHT, tilesize):\n",
    "            br = int(255 * (1 - x / float(ah) * y /float(aw)))\n",
    "            tile = Image.new(\"RGBA\", (tilesize, tilesize), (255,255,255,128))\n",
    "            image.paste((br,br,br), (x, y, x + tilesize, y + tilesize), mask=tile)\n",
    "    return image"
   ]
  },
  {
   "cell_type": "code",
   "execution_count": null,
   "metadata": {},
   "outputs": [],
   "source": [
    "imagelist = [file for file in os.listdir(\"Art_Dataset/test_img/\") if file.endswith('.png')]\n",
    "print(len(imagelist))\n",
    "if not os.path.exists(\"Art_Dataset/fake_img\"):\n",
    "    os.mkdir(\"Art_Dataset/fake_img/\")"
   ]
  },
  {
   "cell_type": "code",
   "execution_count": null,
   "metadata": {},
   "outputs": [],
   "source": [
    "for image in imagelist:\n",
    "    img = Image.open(\"Art_Dataset/test_img/{}\".format(image))\n",
    "    img = fake_light(img)\n",
    "    img.save(\"Art_Dataset/fake_img/{}\".format(image))"
   ]
  },
  {
   "cell_type": "code",
   "execution_count": 26,
   "metadata": {},
   "outputs": [
    {
     "name": "stdout",
     "output_type": "stream",
     "text": [
      "ah: 563\n",
      "aw: 1395\n"
     ]
    }
   ],
   "source": [
    "\n",
    "image = Image.open('{}.png'.format(51))\n",
    "img = fake_light(image)\n",
    "img.save('fake.jpg')"
   ]
  },
  {
   "cell_type": "code",
   "execution_count": null,
   "metadata": {},
   "outputs": [],
   "source": [
    "###########################"
   ]
  },
  {
   "cell_type": "code",
   "execution_count": 34,
   "metadata": {},
   "outputs": [],
   "source": [
    "from PIL import Image\n",
    "img = Image.open('spotlight_51.jpg')"
   ]
  },
  {
   "cell_type": "code",
   "execution_count": 35,
   "metadata": {},
   "outputs": [],
   "source": [
    "with open('gt_51.txt') as f:\n",
    "    num = 8\n",
    "    for line in f.read().splitlines():\n",
    "        cor = line.split(',')\n",
    "        x1 = int(cor[0])\n",
    "        y1 = int(cor[1])\n",
    "        x2 = int(cor[4])\n",
    "        y2 = int(cor[5])\n",
    "        image = img.crop((x1,y1,x2,y2))\n",
    "        image.save('Art_Dataset/store_test_image/{}.ppm'.format(num))\n",
    "        num=num+1"
   ]
  },
  {
   "cell_type": "code",
   "execution_count": null,
   "metadata": {},
   "outputs": [],
   "source": []
  }
 ],
 "metadata": {
  "kernelspec": {
   "display_name": "Python 3",
   "language": "python",
   "name": "python3"
  },
  "language_info": {
   "codemirror_mode": {
    "name": "ipython",
    "version": 3
   },
   "file_extension": ".py",
   "mimetype": "text/x-python",
   "name": "python",
   "nbconvert_exporter": "python",
   "pygments_lexer": "ipython3",
   "version": "3.6.8"
  }
 },
 "nbformat": 4,
 "nbformat_minor": 2
}
